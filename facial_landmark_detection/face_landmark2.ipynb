{
 "cells": [
  {
   "cell_type": "code",
   "execution_count": 1,
   "metadata": {},
   "outputs": [],
   "source": [
    "from imutils import face_utils\n",
    "import dlib\n",
    "import cv2\n",
    "import numpy as np"
   ]
  },
  {
   "cell_type": "code",
   "execution_count": 2,
   "metadata": {},
   "outputs": [],
   "source": [
    "p = \"shape_predictor_68_face_landmarks.dat\"  # p =our pre-treined model directory, on my case, it's on the same script's diretory.\n",
    "detector = dlib.get_frontal_face_detector()\n",
    "predictor = dlib.shape_predictor(p)"
   ]
  },
  {
   "cell_type": "code",
   "execution_count": 52,
   "metadata": {},
   "outputs": [],
   "source": [
    "img = cv2.imread('63063.jpg',cv2.IMREAD_COLOR)              # read input image\n",
    "gray = cv2.cvtColor(img, cv2.COLOR_BGR2GRAY)            # convert image from BGR TO GRAY\n",
    "\n",
    "store = np.array([])                                    # to store coordinates\n",
    "\n",
    "rects = detector(gray)                                  # detect face\n",
    "for (i, rect) in enumerate(rects):                      # find landmark for detected face\n",
    "    shape = predictor(gray, rect)                       # make prediction\n",
    "    shape = face_utils.shape_to_np(shape)               # convert in numpy array\n",
    "    \n",
    "    for (x, y) in shape:                                # Draw on our image, all the finded cordinate points (x,y) \n",
    "            cv2.circle(img, (x, y), 1, (0, 0, 255), -1)\n",
    "    \n",
    "    if i==0:\n",
    "        store = shape\n",
    "    else:\n",
    "        store = np.vstack((store,shape))                # stack row wise \n",
    "    \n",
    "    a = shape[:17,:]                                    # store jawline coordinates into a\n",
    "    \n",
    "    cv2.polylines(img , [a], False , (0, 0, 0), 1)      # draw curve using coordinates\n",
    "    \n",
    "    \n",
    "np.savetxt(\"face_landmark.txt\", store, fmt=\"%s\")        # save coordinates into a txt file, it's on the same script's directory\n",
    "\n",
    "cv2.imshow(\"Output\", img)                               # show output\n",
    "cv2.waitKey(0)\n",
    "cv2.destroyAllWindows()"
   ]
  },
  {
   "cell_type": "code",
   "execution_count": null,
   "metadata": {},
   "outputs": [],
   "source": []
  }
 ],
 "metadata": {
  "kernelspec": {
   "display_name": "Python 3",
   "language": "python",
   "name": "python3"
  },
  "language_info": {
   "codemirror_mode": {
    "name": "ipython",
    "version": 3
   },
   "file_extension": ".py",
   "mimetype": "text/x-python",
   "name": "python",
   "nbconvert_exporter": "python",
   "pygments_lexer": "ipython3",
   "version": "3.6.4"
  }
 },
 "nbformat": 4,
 "nbformat_minor": 4
}
